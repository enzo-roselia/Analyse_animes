{
 "cells": [
  {
   "cell_type": "code",
   "execution_count": 112,
   "metadata": {},
   "outputs": [
    {
     "name": "stdout",
     "output_type": "stream",
     "text": [
      "Requirement already satisfied: seaborn in /home/jupyterlab/conda/envs/python/lib/python3.6/site-packages (0.9.0)\n",
      "Requirement already satisfied: matplotlib>=1.4.3 in /home/jupyterlab/conda/envs/python/lib/python3.6/site-packages (from seaborn) (3.3.2)\n",
      "Requirement already satisfied: pandas>=0.15.2 in /home/jupyterlab/conda/envs/python/lib/python3.6/site-packages (from seaborn) (1.1.2)\n",
      "Requirement already satisfied: scipy>=0.14.0 in /home/jupyterlab/conda/envs/python/lib/python3.6/site-packages (from seaborn) (1.5.2)\n",
      "Requirement already satisfied: numpy>=1.9.3 in /home/jupyterlab/conda/envs/python/lib/python3.6/site-packages (from seaborn) (1.19.1)\n",
      "Requirement already satisfied: cycler>=0.10 in /home/jupyterlab/conda/envs/python/lib/python3.6/site-packages (from matplotlib>=1.4.3->seaborn) (0.10.0)\n",
      "Requirement already satisfied: kiwisolver>=1.0.1 in /home/jupyterlab/conda/envs/python/lib/python3.6/site-packages (from matplotlib>=1.4.3->seaborn) (1.2.0)\n",
      "Requirement already satisfied: certifi>=2020.06.20 in /home/jupyterlab/conda/envs/python/lib/python3.6/site-packages (from matplotlib>=1.4.3->seaborn) (2020.6.20)\n",
      "Requirement already satisfied: python-dateutil>=2.1 in /home/jupyterlab/conda/envs/python/lib/python3.6/site-packages (from matplotlib>=1.4.3->seaborn) (2.8.1)\n",
      "Requirement already satisfied: pillow>=6.2.0 in /home/jupyterlab/conda/envs/python/lib/python3.6/site-packages (from matplotlib>=1.4.3->seaborn) (7.2.0)\n",
      "Requirement already satisfied: pyparsing!=2.0.4,!=2.1.2,!=2.1.6,>=2.0.3 in /home/jupyterlab/conda/envs/python/lib/python3.6/site-packages (from matplotlib>=1.4.3->seaborn) (2.4.7)\n",
      "Requirement already satisfied: pytz>=2017.2 in /home/jupyterlab/conda/envs/python/lib/python3.6/site-packages (from pandas>=0.15.2->seaborn) (2020.1)\n",
      "Requirement already satisfied: six in /home/jupyterlab/conda/envs/python/lib/python3.6/site-packages (from cycler>=0.10->matplotlib>=1.4.3->seaborn) (1.15.0)\n"
     ]
    },
    {
     "data": {
      "text/plain": [
       "Title            object\n",
       "Type             object\n",
       "Start airing      int64\n",
       "Studios          object\n",
       "Genres           object\n",
       "Rating           object\n",
       "Score           float64\n",
       "Scored by         int64\n",
       "Members           int64\n",
       "Favorites         int64\n",
       "Niveau           object\n",
       "Movie             int64\n",
       "Music             int64\n",
       "ONA               int64\n",
       "OVA               int64\n",
       "Special           int64\n",
       "TV                int64\n",
       "dtype: object"
      ]
     },
     "execution_count": 112,
     "metadata": {},
     "output_type": "execute_result"
    }
   ],
   "source": [
    "import pandas as pd\n",
    "import matplotlib.pylab as plt\n",
    "import numpy as np\n",
    "%matplotlib inline\n",
    "import matplotlib as plt\n",
    "from matplotlib import pyplot\n",
    "#%%capture\n",
    "! pip install seaborn\n",
    "import matplotlib.pyplot as plt\n",
    "import seaborn as sns\n",
    "%matplotlib inline \n",
    "from scipy import stats\n",
    "\n",
    "df = pd.read_csv(\"clean_df.csv\")\n",
    "df.dtypes\n",
    "#Certains changements n'ont pas été sauvegardés correctement"
   ]
  },
  {
   "cell_type": "code",
   "execution_count": 113,
   "metadata": {},
   "outputs": [],
   "source": [
    "df[[\"Title\", \"Studios\",\"Genres\",\"Type\",\"Rating\",\"Niveau\"]] = df[[\"Title\", \"Studios\",\"Genres\",\"Type\",\"Rating\",\"Niveau\"]].astype(\"string\")"
   ]
  },
  {
   "cell_type": "code",
   "execution_count": 114,
   "metadata": {},
   "outputs": [
    {
     "data": {
      "text/html": [
       "<div>\n",
       "<style scoped>\n",
       "    .dataframe tbody tr th:only-of-type {\n",
       "        vertical-align: middle;\n",
       "    }\n",
       "\n",
       "    .dataframe tbody tr th {\n",
       "        vertical-align: top;\n",
       "    }\n",
       "\n",
       "    .dataframe thead th {\n",
       "        text-align: right;\n",
       "    }\n",
       "</style>\n",
       "<table border=\"1\" class=\"dataframe\">\n",
       "  <thead>\n",
       "    <tr style=\"text-align: right;\">\n",
       "      <th></th>\n",
       "      <th>Favorites</th>\n",
       "      <th>Members</th>\n",
       "      <th>Score</th>\n",
       "    </tr>\n",
       "  </thead>\n",
       "  <tbody>\n",
       "    <tr>\n",
       "      <th>Favorites</th>\n",
       "      <td>1.000000</td>\n",
       "      <td>0.821251</td>\n",
       "      <td>0.409841</td>\n",
       "    </tr>\n",
       "    <tr>\n",
       "      <th>Members</th>\n",
       "      <td>0.821251</td>\n",
       "      <td>1.000000</td>\n",
       "      <td>0.408320</td>\n",
       "    </tr>\n",
       "    <tr>\n",
       "      <th>Score</th>\n",
       "      <td>0.409841</td>\n",
       "      <td>0.408320</td>\n",
       "      <td>1.000000</td>\n",
       "    </tr>\n",
       "  </tbody>\n",
       "</table>\n",
       "</div>"
      ],
      "text/plain": [
       "           Favorites   Members     Score\n",
       "Favorites   1.000000  0.821251  0.409841\n",
       "Members     0.821251  1.000000  0.408320\n",
       "Score       0.409841  0.408320  1.000000"
      ]
     },
     "execution_count": 114,
     "metadata": {},
     "output_type": "execute_result"
    }
   ],
   "source": [
    "#Cherchons s'il existe une corrélation particulière entre le score, le nombre de membres et le nombre de choix en tant que favori\n",
    "df[[\"Favorites\",\"Members\",\"Score\"]].corr()"
   ]
  },
  {
   "cell_type": "code",
   "execution_count": 115,
   "metadata": {},
   "outputs": [
    {
     "data": {
      "text/plain": [
       "(0.0, 2624617.7634937842)"
      ]
     },
     "execution_count": 115,
     "metadata": {},
     "output_type": "execute_result"
    },
    {
     "data": {
      "image/png": "[encoded data removed]",
      "text/plain": [
       "<Figure size 432x288 with 1 Axes>"
      ]
     },
     "metadata": {
      "needs_background": "light"
     },
     "output_type": "display_data"
    }
   ],
   "source": [
    "#On remarque qu'une grosse corrélation positive existe entre les favoris et le nombre de membres\n",
    "#on cherche à le vérifier avec une représentation graphique\n",
    "sns.regplot(x=\"Favorites\", y=\"Members\", data=df)\n",
    "plt.ylim(0,)\n",
    "\n",
    "#malgré quelques valeurs extrêmes on remarque la corrélation et la pente \"montante\" synonyme de positivité"
   ]
  },
  {
   "cell_type": "code",
   "execution_count": 116,
   "metadata": {},
   "outputs": [
    {
     "data": {
      "text/plain": [
       "<AxesSubplot:xlabel='Type', ylabel='Score'>"
      ]
     },
     "execution_count": 116,
     "metadata": {},
     "output_type": "execute_result"
    },
    {
     "data": {
      "image/png": "[encoded data removed]",
      "text/plain": [
       "<Figure size 432x288 with 1 Axes>"
      ]
     },
     "metadata": {
      "needs_background": "light"
     },
     "output_type": "display_data"
    }
   ],
   "source": [
    "#Autre piste d'exploration : répartition des scores en fonction des différents types\n",
    "sns.boxplot(x=\"Type\", y=\"Score\", data=df)\n",
    "\n",
    "#Principalement des séries, films et OVA, les séries ont la meilleure moyenne de note"
   ]
  },
  {
   "cell_type": "code",
   "execution_count": 117,
   "metadata": {},
   "outputs": [
    {
     "data": {
      "text/html": [
       "<div>\n",
       "<style scoped>\n",
       "    .dataframe tbody tr th:only-of-type {\n",
       "        vertical-align: middle;\n",
       "    }\n",
       "\n",
       "    .dataframe tbody tr th {\n",
       "        vertical-align: top;\n",
       "    }\n",
       "\n",
       "    .dataframe thead th {\n",
       "        text-align: right;\n",
       "    }\n",
       "</style>\n",
       "<table border=\"1\" class=\"dataframe\">\n",
       "  <thead>\n",
       "    <tr style=\"text-align: right;\">\n",
       "      <th></th>\n",
       "      <th>Title</th>\n",
       "      <th>Type</th>\n",
       "      <th>Studios</th>\n",
       "      <th>Genres</th>\n",
       "      <th>Rating</th>\n",
       "      <th>Niveau</th>\n",
       "    </tr>\n",
       "  </thead>\n",
       "  <tbody>\n",
       "    <tr>\n",
       "      <th>count</th>\n",
       "      <td>1505</td>\n",
       "      <td>1505</td>\n",
       "      <td>1505</td>\n",
       "      <td>1505</td>\n",
       "      <td>1505</td>\n",
       "      <td>1505</td>\n",
       "    </tr>\n",
       "    <tr>\n",
       "      <th>unique</th>\n",
       "      <td>1505</td>\n",
       "      <td>6</td>\n",
       "      <td>199</td>\n",
       "      <td>978</td>\n",
       "      <td>5</td>\n",
       "      <td>3</td>\n",
       "    </tr>\n",
       "    <tr>\n",
       "      <th>top</th>\n",
       "      <td>Kokoro Connect</td>\n",
       "      <td>TV</td>\n",
       "      <td>Sunrise</td>\n",
       "      <td>Slice of Life,Comedy</td>\n",
       "      <td>PG-13</td>\n",
       "      <td>Mediocre</td>\n",
       "    </tr>\n",
       "    <tr>\n",
       "      <th>freq</th>\n",
       "      <td>1</td>\n",
       "      <td>817</td>\n",
       "      <td>105</td>\n",
       "      <td>15</td>\n",
       "      <td>1006</td>\n",
       "      <td>1084</td>\n",
       "    </tr>\n",
       "  </tbody>\n",
       "</table>\n",
       "</div>"
      ],
      "text/plain": [
       "                 Title  Type  Studios                Genres Rating    Niveau\n",
       "count             1505  1505     1505                  1505   1505      1505\n",
       "unique            1505     6      199                   978      5         3\n",
       "top     Kokoro Connect    TV  Sunrise  Slice of Life,Comedy  PG-13  Mediocre\n",
       "freq                 1   817      105                    15   1006      1084"
      ]
     },
     "execution_count": 117,
     "metadata": {},
     "output_type": "execute_result"
    }
   ],
   "source": [
    "#Etude d'indicateurs basiques\n",
    "df.describe(include=['string'])"
   ]
  },
  {
   "cell_type": "code",
   "execution_count": 118,
   "metadata": {},
   "outputs": [
    {
     "data": {
      "text/plain": [
       "<StringArray>\n",
       "['TV', 'Movie', 'OVA', 'Special', 'Music', 'ONA']\n",
       "Length: 6, dtype: string"
      ]
     },
     "execution_count": 118,
     "metadata": {},
     "output_type": "execute_result"
    }
   ],
   "source": [
    "#Voir les modalités de la variable Type\n",
    "df['Type'].unique()"
   ]
  },
  {
   "cell_type": "code",
   "execution_count": 119,
   "metadata": {},
   "outputs": [
    {
     "data": {
      "text/plain": [
       "TV         817\n",
       "Movie      320\n",
       "OVA        178\n",
       "Special    148\n",
       "ONA         33\n",
       "Music        9\n",
       "Name: Type, dtype: Int64"
      ]
     },
     "execution_count": 119,
     "metadata": {},
     "output_type": "execute_result"
    }
   ],
   "source": [
    "#Je vérifie qu'il soit pertinent de garder toutes les modalités\n",
    "#(aucun type n'est négligeable)\n",
    "df['Type'].value_counts()"
   ]
  },
  {
   "cell_type": "code",
   "execution_count": 120,
   "metadata": {},
   "outputs": [
    {
     "data": {
      "text/html": [
       "<div>\n",
       "<style scoped>\n",
       "    .dataframe tbody tr th:only-of-type {\n",
       "        vertical-align: middle;\n",
       "    }\n",
       "\n",
       "    .dataframe tbody tr th {\n",
       "        vertical-align: top;\n",
       "    }\n",
       "\n",
       "    .dataframe thead th {\n",
       "        text-align: right;\n",
       "    }\n",
       "</style>\n",
       "<table border=\"1\" class=\"dataframe\">\n",
       "  <thead>\n",
       "    <tr style=\"text-align: right;\">\n",
       "      <th></th>\n",
       "      <th>Fréquence</th>\n",
       "    </tr>\n",
       "    <tr>\n",
       "      <th>Types</th>\n",
       "      <th></th>\n",
       "    </tr>\n",
       "  </thead>\n",
       "  <tbody>\n",
       "    <tr>\n",
       "      <th>TV</th>\n",
       "      <td>817</td>\n",
       "    </tr>\n",
       "    <tr>\n",
       "      <th>Movie</th>\n",
       "      <td>320</td>\n",
       "    </tr>\n",
       "    <tr>\n",
       "      <th>OVA</th>\n",
       "      <td>178</td>\n",
       "    </tr>\n",
       "    <tr>\n",
       "      <th>Special</th>\n",
       "      <td>148</td>\n",
       "    </tr>\n",
       "    <tr>\n",
       "      <th>ONA</th>\n",
       "      <td>33</td>\n",
       "    </tr>\n",
       "    <tr>\n",
       "      <th>Music</th>\n",
       "      <td>9</td>\n",
       "    </tr>\n",
       "  </tbody>\n",
       "</table>\n",
       "</div>"
      ],
      "text/plain": [
       "         Fréquence\n",
       "Types             \n",
       "TV             817\n",
       "Movie          320\n",
       "OVA            178\n",
       "Special        148\n",
       "ONA             33\n",
       "Music            9"
      ]
     },
     "execution_count": 120,
     "metadata": {},
     "output_type": "execute_result"
    }
   ],
   "source": [
    "#Autre façon en markdown avec titre et nom d'index\n",
    "Type_values = df['Type'].value_counts().to_frame()\n",
    "Type_values.rename(columns={'Type': 'Fréquence'}, inplace=True)\n",
    "Type_values.index.name = 'Types'\n",
    "Type_values"
   ]
  },
  {
   "cell_type": "code",
   "execution_count": 121,
   "metadata": {},
   "outputs": [
    {
     "data": {
      "text/html": [
       "<div>\n",
       "<style scoped>\n",
       "    .dataframe tbody tr th:only-of-type {\n",
       "        vertical-align: middle;\n",
       "    }\n",
       "\n",
       "    .dataframe tbody tr th {\n",
       "        vertical-align: top;\n",
       "    }\n",
       "\n",
       "    .dataframe thead th {\n",
       "        text-align: right;\n",
       "    }\n",
       "</style>\n",
       "<table border=\"1\" class=\"dataframe\">\n",
       "  <thead>\n",
       "    <tr style=\"text-align: right;\">\n",
       "      <th></th>\n",
       "      <th>Type</th>\n",
       "      <th>Score</th>\n",
       "      <th>Members</th>\n",
       "    </tr>\n",
       "  </thead>\n",
       "  <tbody>\n",
       "    <tr>\n",
       "      <th>0</th>\n",
       "      <td>Movie</td>\n",
       "      <td>7.906938</td>\n",
       "      <td>70669.396875</td>\n",
       "    </tr>\n",
       "    <tr>\n",
       "      <th>1</th>\n",
       "      <td>Music</td>\n",
       "      <td>7.790000</td>\n",
       "      <td>29534.000000</td>\n",
       "    </tr>\n",
       "    <tr>\n",
       "      <th>2</th>\n",
       "      <td>ONA</td>\n",
       "      <td>7.711818</td>\n",
       "      <td>47545.181818</td>\n",
       "    </tr>\n",
       "    <tr>\n",
       "      <th>3</th>\n",
       "      <td>OVA</td>\n",
       "      <td>7.865000</td>\n",
       "      <td>44720.544944</td>\n",
       "    </tr>\n",
       "    <tr>\n",
       "      <th>4</th>\n",
       "      <td>Special</td>\n",
       "      <td>7.827770</td>\n",
       "      <td>41442.547297</td>\n",
       "    </tr>\n",
       "    <tr>\n",
       "      <th>5</th>\n",
       "      <td>TV</td>\n",
       "      <td>7.950881</td>\n",
       "      <td>172719.319461</td>\n",
       "    </tr>\n",
       "  </tbody>\n",
       "</table>\n",
       "</div>"
      ],
      "text/plain": [
       "      Type     Score        Members\n",
       "0    Movie  7.906938   70669.396875\n",
       "1    Music  7.790000   29534.000000\n",
       "2      ONA  7.711818   47545.181818\n",
       "3      OVA  7.865000   44720.544944\n",
       "4  Special  7.827770   41442.547297\n",
       "5       TV  7.950881  172719.319461"
      ]
     },
     "execution_count": 121,
     "metadata": {},
     "output_type": "execute_result"
    }
   ],
   "source": [
    "#Visualisation des scores et des membres moyens groupés par type\n",
    "df_group_one = df[['Type','Score','Members']]\n",
    "df_group_one = df_group_one.groupby(['Type'],as_index=False).mean()\n",
    "df_group_one\n",
    "\n",
    "#On remarque les séries sont les plus populaires\n",
    "#(meilleur score et nombre d'abonnés)\n",
    "#inversement pour les musiques, sûrement car le blog s'est spécialisé dans les oeuvres du petit et grand écran "
   ]
  },
  {
   "cell_type": "code",
   "execution_count": 122,
   "metadata": {},
   "outputs": [
    {
     "data": {
      "text/html": [
       "<div>\n",
       "<style scoped>\n",
       "    .dataframe tbody tr th:only-of-type {\n",
       "        vertical-align: middle;\n",
       "    }\n",
       "\n",
       "    .dataframe tbody tr th {\n",
       "        vertical-align: top;\n",
       "    }\n",
       "\n",
       "    .dataframe thead th {\n",
       "        text-align: right;\n",
       "    }\n",
       "</style>\n",
       "<table border=\"1\" class=\"dataframe\">\n",
       "  <thead>\n",
       "    <tr style=\"text-align: right;\">\n",
       "      <th></th>\n",
       "      <th>Type</th>\n",
       "      <th>Rating</th>\n",
       "      <th>Members</th>\n",
       "    </tr>\n",
       "  </thead>\n",
       "  <tbody>\n",
       "    <tr>\n",
       "      <th>0</th>\n",
       "      <td>Movie</td>\n",
       "      <td>G</td>\n",
       "      <td>63811.568182</td>\n",
       "    </tr>\n",
       "    <tr>\n",
       "      <th>1</th>\n",
       "      <td>Movie</td>\n",
       "      <td>None</td>\n",
       "      <td>18325.166667</td>\n",
       "    </tr>\n",
       "    <tr>\n",
       "      <th>2</th>\n",
       "      <td>Movie</td>\n",
       "      <td>PG</td>\n",
       "      <td>101328.952381</td>\n",
       "    </tr>\n",
       "    <tr>\n",
       "      <th>3</th>\n",
       "      <td>Movie</td>\n",
       "      <td>PG-13</td>\n",
       "      <td>72690.331551</td>\n",
       "    </tr>\n",
       "    <tr>\n",
       "      <th>4</th>\n",
       "      <td>Movie</td>\n",
       "      <td>R</td>\n",
       "      <td>64121.725806</td>\n",
       "    </tr>\n",
       "    <tr>\n",
       "      <th>5</th>\n",
       "      <td>Music</td>\n",
       "      <td>G</td>\n",
       "      <td>35640.571429</td>\n",
       "    </tr>\n",
       "    <tr>\n",
       "      <th>6</th>\n",
       "      <td>Music</td>\n",
       "      <td>PG-13</td>\n",
       "      <td>8161.000000</td>\n",
       "    </tr>\n",
       "    <tr>\n",
       "      <th>7</th>\n",
       "      <td>ONA</td>\n",
       "      <td>PG</td>\n",
       "      <td>12662.000000</td>\n",
       "    </tr>\n",
       "    <tr>\n",
       "      <th>8</th>\n",
       "      <td>ONA</td>\n",
       "      <td>PG-13</td>\n",
       "      <td>54300.583333</td>\n",
       "    </tr>\n",
       "    <tr>\n",
       "      <th>9</th>\n",
       "      <td>ONA</td>\n",
       "      <td>R</td>\n",
       "      <td>34350.428571</td>\n",
       "    </tr>\n",
       "    <tr>\n",
       "      <th>10</th>\n",
       "      <td>OVA</td>\n",
       "      <td>G</td>\n",
       "      <td>16694.750000</td>\n",
       "    </tr>\n",
       "    <tr>\n",
       "      <th>11</th>\n",
       "      <td>OVA</td>\n",
       "      <td>PG</td>\n",
       "      <td>10424.500000</td>\n",
       "    </tr>\n",
       "    <tr>\n",
       "      <th>12</th>\n",
       "      <td>OVA</td>\n",
       "      <td>PG-13</td>\n",
       "      <td>38339.343284</td>\n",
       "    </tr>\n",
       "    <tr>\n",
       "      <th>13</th>\n",
       "      <td>OVA</td>\n",
       "      <td>R</td>\n",
       "      <td>71977.815789</td>\n",
       "    </tr>\n",
       "    <tr>\n",
       "      <th>14</th>\n",
       "      <td>Special</td>\n",
       "      <td>G</td>\n",
       "      <td>12224.750000</td>\n",
       "    </tr>\n",
       "    <tr>\n",
       "      <th>15</th>\n",
       "      <td>Special</td>\n",
       "      <td>PG</td>\n",
       "      <td>31124.000000</td>\n",
       "    </tr>\n",
       "    <tr>\n",
       "      <th>16</th>\n",
       "      <td>Special</td>\n",
       "      <td>PG-13</td>\n",
       "      <td>40630.805310</td>\n",
       "    </tr>\n",
       "    <tr>\n",
       "      <th>17</th>\n",
       "      <td>Special</td>\n",
       "      <td>R</td>\n",
       "      <td>58581.727273</td>\n",
       "    </tr>\n",
       "    <tr>\n",
       "      <th>18</th>\n",
       "      <td>TV</td>\n",
       "      <td>G</td>\n",
       "      <td>21840.433333</td>\n",
       "    </tr>\n",
       "    <tr>\n",
       "      <th>19</th>\n",
       "      <td>TV</td>\n",
       "      <td>None</td>\n",
       "      <td>51528.500000</td>\n",
       "    </tr>\n",
       "    <tr>\n",
       "      <th>20</th>\n",
       "      <td>TV</td>\n",
       "      <td>PG</td>\n",
       "      <td>53192.480000</td>\n",
       "    </tr>\n",
       "    <tr>\n",
       "      <th>21</th>\n",
       "      <td>TV</td>\n",
       "      <td>PG-13</td>\n",
       "      <td>167731.921245</td>\n",
       "    </tr>\n",
       "    <tr>\n",
       "      <th>22</th>\n",
       "      <td>TV</td>\n",
       "      <td>R</td>\n",
       "      <td>254275.869565</td>\n",
       "    </tr>\n",
       "  </tbody>\n",
       "</table>\n",
       "</div>"
      ],
      "text/plain": [
       "       Type Rating        Members\n",
       "0     Movie      G   63811.568182\n",
       "1     Movie   None   18325.166667\n",
       "2     Movie     PG  101328.952381\n",
       "3     Movie  PG-13   72690.331551\n",
       "4     Movie      R   64121.725806\n",
       "5     Music      G   35640.571429\n",
       "6     Music  PG-13    8161.000000\n",
       "7       ONA     PG   12662.000000\n",
       "8       ONA  PG-13   54300.583333\n",
       "9       ONA      R   34350.428571\n",
       "10      OVA      G   16694.750000\n",
       "11      OVA     PG   10424.500000\n",
       "12      OVA  PG-13   38339.343284\n",
       "13      OVA      R   71977.815789\n",
       "14  Special      G   12224.750000\n",
       "15  Special     PG   31124.000000\n",
       "16  Special  PG-13   40630.805310\n",
       "17  Special      R   58581.727273\n",
       "18       TV      G   21840.433333\n",
       "19       TV   None   51528.500000\n",
       "20       TV     PG   53192.480000\n",
       "21       TV  PG-13  167731.921245\n",
       "22       TV      R  254275.869565"
      ]
     },
     "execution_count": 122,
     "metadata": {},
     "output_type": "execute_result"
    }
   ],
   "source": [
    "#Je rajoute la classification pour voir laquelle est la plus utilisée \n",
    "#(donne aussi un indice sur l'âge du public votant)\n",
    "#résultat : dépend des types, il n'y a pas de restriction qui se démarque sauf une nette augmentation pour les séries TV à caractère violent\n",
    "#Synonyme d'une possible préférence pour ce type d'oeuvre\n",
    "df_gptest = df[['Type','Members','Rating']]\n",
    "grouped_test1 = df_gptest.groupby(['Type','Rating'],as_index=False).mean()\n",
    "grouped_test1"
   ]
  },
  {
   "cell_type": "code",
   "execution_count": 123,
   "metadata": {},
   "outputs": [
    {
     "data": {
      "text/html": [
       "<div>\n",
       "<style scoped>\n",
       "    .dataframe tbody tr th:only-of-type {\n",
       "        vertical-align: middle;\n",
       "    }\n",
       "\n",
       "    .dataframe tbody tr th {\n",
       "        vertical-align: top;\n",
       "    }\n",
       "\n",
       "    .dataframe thead tr th {\n",
       "        text-align: left;\n",
       "    }\n",
       "\n",
       "    .dataframe thead tr:last-of-type th {\n",
       "        text-align: right;\n",
       "    }\n",
       "</style>\n",
       "<table border=\"1\" class=\"dataframe\">\n",
       "  <thead>\n",
       "    <tr>\n",
       "      <th></th>\n",
       "      <th colspan=\"5\" halign=\"left\">Members</th>\n",
       "    </tr>\n",
       "    <tr>\n",
       "      <th>Rating</th>\n",
       "      <th>G</th>\n",
       "      <th>None</th>\n",
       "      <th>PG</th>\n",
       "      <th>PG-13</th>\n",
       "      <th>R</th>\n",
       "    </tr>\n",
       "    <tr>\n",
       "      <th>Type</th>\n",
       "      <th></th>\n",
       "      <th></th>\n",
       "      <th></th>\n",
       "      <th></th>\n",
       "      <th></th>\n",
       "    </tr>\n",
       "  </thead>\n",
       "  <tbody>\n",
       "    <tr>\n",
       "      <th>Movie</th>\n",
       "      <td>63811.568182</td>\n",
       "      <td>18325.166667</td>\n",
       "      <td>101328.952381</td>\n",
       "      <td>72690.331551</td>\n",
       "      <td>64121.725806</td>\n",
       "    </tr>\n",
       "    <tr>\n",
       "      <th>Music</th>\n",
       "      <td>35640.571429</td>\n",
       "      <td>0.000000</td>\n",
       "      <td>0.000000</td>\n",
       "      <td>8161.000000</td>\n",
       "      <td>0.000000</td>\n",
       "    </tr>\n",
       "    <tr>\n",
       "      <th>ONA</th>\n",
       "      <td>0.000000</td>\n",
       "      <td>0.000000</td>\n",
       "      <td>12662.000000</td>\n",
       "      <td>54300.583333</td>\n",
       "      <td>34350.428571</td>\n",
       "    </tr>\n",
       "    <tr>\n",
       "      <th>OVA</th>\n",
       "      <td>16694.750000</td>\n",
       "      <td>0.000000</td>\n",
       "      <td>10424.500000</td>\n",
       "      <td>38339.343284</td>\n",
       "      <td>71977.815789</td>\n",
       "    </tr>\n",
       "    <tr>\n",
       "      <th>Special</th>\n",
       "      <td>12224.750000</td>\n",
       "      <td>0.000000</td>\n",
       "      <td>31124.000000</td>\n",
       "      <td>40630.805310</td>\n",
       "      <td>58581.727273</td>\n",
       "    </tr>\n",
       "    <tr>\n",
       "      <th>TV</th>\n",
       "      <td>21840.433333</td>\n",
       "      <td>51528.500000</td>\n",
       "      <td>53192.480000</td>\n",
       "      <td>167731.921245</td>\n",
       "      <td>254275.869565</td>\n",
       "    </tr>\n",
       "  </tbody>\n",
       "</table>\n",
       "</div>"
      ],
      "text/plain": [
       "              Members                                              \\\n",
       "Rating              G          None             PG          PG-13   \n",
       "Type                                                                \n",
       "Movie    63811.568182  18325.166667  101328.952381   72690.331551   \n",
       "Music    35640.571429      0.000000       0.000000    8161.000000   \n",
       "ONA          0.000000      0.000000   12662.000000   54300.583333   \n",
       "OVA      16694.750000      0.000000   10424.500000   38339.343284   \n",
       "Special  12224.750000      0.000000   31124.000000   40630.805310   \n",
       "TV       21840.433333  51528.500000   53192.480000  167731.921245   \n",
       "\n",
       "                        \n",
       "Rating               R  \n",
       "Type                    \n",
       "Movie     64121.725806  \n",
       "Music         0.000000  \n",
       "ONA       34350.428571  \n",
       "OVA       71977.815789  \n",
       "Special   58581.727273  \n",
       "TV       254275.869565  "
      ]
     },
     "execution_count": 123,
     "metadata": {},
     "output_type": "execute_result"
    }
   ],
   "source": [
    "#Je réalise un groupe pivot pour en savoir plus\n",
    "grouped_pivot = grouped_test1.pivot(index='Type',columns='Rating')\n",
    "grouped_pivot = grouped_pivot.fillna(0)\n",
    "grouped_pivot\n",
    "#Les oeuvres disponibles uniquement sur internet (ONA) sont plus suivies lorsque la restriction n'est pas maximale donc leurs contenus ne doit pas s'adresser à un public âgé\n",
    "#Les OVA et les spéciaux sont préférés violents"
   ]
  },
  {
   "cell_type": "code",
   "execution_count": 124,
   "metadata": {},
   "outputs": [
    {
     "data": {
      "image/png": "[encoded data removed]",
      "text/plain": [
       "<Figure size 432x288 with 2 Axes>"
      ]
     },
     "metadata": {
      "needs_background": "light"
     },
     "output_type": "display_data"
    }
   ],
   "source": [
    "#Heatmap (beaucoup plus facile pour voir les résultats)\n",
    "fig, ax = plt.subplots()\n",
    "im = ax.pcolor(grouped_pivot, cmap='pink')\n",
    "\n",
    "titre_ligne = grouped_pivot.columns.levels[1]\n",
    "titre_colonne = grouped_pivot.index\n",
    "\n",
    "ax.set_xticks(np.arange(grouped_pivot.shape[1]) + 0.5, minor=False)\n",
    "ax.set_yticks(np.arange(grouped_pivot.shape[0]) + 0.5, minor=False)\n",
    "\n",
    "ax.set_xticklabels(titre_ligne, minor=False)\n",
    "ax.set_yticklabels(titre_colonne, minor=False)\n",
    "\n",
    "plt.xticks(rotation=90)\n",
    "\n",
    "fig.colorbar(im)\n",
    "plt.show()"
   ]
  },
  {
   "cell_type": "code",
   "execution_count": 125,
   "metadata": {},
   "outputs": [
    {
     "name": "stdout",
     "output_type": "stream",
     "text": [
      "The Pearson Correlation Coefficient is 0.8254487383642358  with a P-value of P = 0.0\n"
     ]
    }
   ],
   "source": [
    "#Pearson\n",
    "pearson_coef, p_value = stats.pearsonr(df['Favorites'], df['Scored by'])\n",
    "print(\"The Pearson Correlation Coefficient is\", pearson_coef, \" with a P-value of P =\", p_value)\n",
    "#coefficient Pearson élevé et une p-value = 0\n",
    "# donc une corrélation significative entre les variables\n",
    "#corrélation positive"
   ]
  },
  {
   "cell_type": "code",
   "execution_count": 126,
   "metadata": {},
   "outputs": [
    {
     "name": "stdout",
     "output_type": "stream",
     "text": [
      "The Pearson Correlation Coefficient is 0.8212506234858653  with a P-value of P = 0.0\n"
     ]
    }
   ],
   "source": [
    "pearson_coef, p_value = stats.pearsonr(df['Members'], df['Favorites'])\n",
    "print(\"The Pearson Correlation Coefficient is\", pearson_coef, \" with a P-value of P =\", p_value)\n",
    "#coefficient Pearson élevé et une p-value = 0\n",
    "# donc une corrélation significative entre les variables\n",
    "#corrélation positive"
   ]
  },
  {
   "cell_type": "code",
   "execution_count": 127,
   "metadata": {},
   "outputs": [
    {
     "name": "stdout",
     "output_type": "stream",
     "text": [
      "The Pearson Correlation Coefficient is 0.40984072167431235  with a P-value of P = 4.830940980323518e-62\n"
     ]
    }
   ],
   "source": [
    "pearson_coef, p_value = stats.pearsonr(df['Score'], df['Favorites'])\n",
    "print(\"The Pearson Correlation Coefficient is\", pearson_coef, \" with a P-value of P =\", p_value)\n",
    "#coefficient Pearson très bas et une p-value > 1\n",
    "# donc pas de corrélation significative"
   ]
  },
  {
   "cell_type": "code",
   "execution_count": 128,
   "metadata": {},
   "outputs": [
    {
     "name": "stdout",
     "output_type": "stream",
     "text": [
      "The Pearson Correlation Coefficient is 0.08407104687356817  with a P-value of P = 0.0010963785614840113\n"
     ]
    }
   ],
   "source": [
    "pearson_coef, p_value = stats.pearsonr(df['Start airing'], df['Score'])\n",
    "print(\"The Pearson Correlation Coefficient is\", pearson_coef, \" with a P-value of P =\", p_value)\n",
    "#coefficient Pearson très bas et une p-value < 0,05\n",
    "# donc il existe peut-être des preuves de corrélation"
   ]
  },
  {
   "cell_type": "code",
   "execution_count": 129,
   "metadata": {},
   "outputs": [
    {
     "data": {
      "text/html": [
       "<div>\n",
       "<style scoped>\n",
       "    .dataframe tbody tr th:only-of-type {\n",
       "        vertical-align: middle;\n",
       "    }\n",
       "\n",
       "    .dataframe tbody tr th {\n",
       "        vertical-align: top;\n",
       "    }\n",
       "\n",
       "    .dataframe thead th {\n",
       "        text-align: right;\n",
       "    }\n",
       "</style>\n",
       "<table border=\"1\" class=\"dataframe\">\n",
       "  <thead>\n",
       "    <tr style=\"text-align: right;\">\n",
       "      <th></th>\n",
       "      <th>Start airing</th>\n",
       "      <th>Niveau</th>\n",
       "    </tr>\n",
       "  </thead>\n",
       "  <tbody>\n",
       "    <tr>\n",
       "      <th>0</th>\n",
       "      <td>2009</td>\n",
       "      <td>Excellent</td>\n",
       "    </tr>\n",
       "    <tr>\n",
       "      <th>1</th>\n",
       "      <td>2016</td>\n",
       "      <td>Excellent</td>\n",
       "    </tr>\n",
       "    <tr>\n",
       "      <th>50</th>\n",
       "      <td>2016</td>\n",
       "      <td>Bon</td>\n",
       "    </tr>\n",
       "    <tr>\n",
       "      <th>51</th>\n",
       "      <td>2012</td>\n",
       "      <td>Bon</td>\n",
       "    </tr>\n",
       "    <tr>\n",
       "      <th>421</th>\n",
       "      <td>1999</td>\n",
       "      <td>Mediocre</td>\n",
       "    </tr>\n",
       "    <tr>\n",
       "      <th>422</th>\n",
       "      <td>2011</td>\n",
       "      <td>Mediocre</td>\n",
       "    </tr>\n",
       "  </tbody>\n",
       "</table>\n",
       "</div>"
      ],
      "text/plain": [
       "     Start airing     Niveau\n",
       "0            2009  Excellent\n",
       "1            2016  Excellent\n",
       "50           2016        Bon\n",
       "51           2012        Bon\n",
       "421          1999   Mediocre\n",
       "422          2011   Mediocre"
      ]
     },
     "execution_count": 129,
     "metadata": {},
     "output_type": "execute_result"
    }
   ],
   "source": [
    "df_gptest = df[['Start airing','Niveau','Members']]\n",
    "grouped_test2=df_gptest[['Start airing', 'Niveau']].groupby(['Niveau'])\n",
    "grouped_test2.head(2)"
   ]
  },
  {
   "cell_type": "code",
   "execution_count": 130,
   "metadata": {},
   "outputs": [
    {
     "data": {
      "text/plain": [
       "0      True\n",
       "1      True\n",
       "2      True\n",
       "3      True\n",
       "4      True\n",
       "5     False\n",
       "6      True\n",
       "7      True\n",
       "8      True\n",
       "9      True\n",
       "10     True\n",
       "11     True\n",
       "12     True\n",
       "13     True\n",
       "14     True\n",
       "15     True\n",
       "16     True\n",
       "17     True\n",
       "18     True\n",
       "19     True\n",
       "20     True\n",
       "21     True\n",
       "22     True\n",
       "23     True\n",
       "24     True\n",
       "25     True\n",
       "26    False\n",
       "27    False\n",
       "28    False\n",
       "29     True\n",
       "30    False\n",
       "31     True\n",
       "32     True\n",
       "33     True\n",
       "34     True\n",
       "35     True\n",
       "36    False\n",
       "37     True\n",
       "38     True\n",
       "39     True\n",
       "40     True\n",
       "41     True\n",
       "42     True\n",
       "43     True\n",
       "44     True\n",
       "45     True\n",
       "46     True\n",
       "47     True\n",
       "48     True\n",
       "49     True\n",
       "Name: Start airing, dtype: bool"
      ]
     },
     "execution_count": 130,
     "metadata": {},
     "output_type": "execute_result"
    }
   ],
   "source": [
    "grouped_test2.get_group('Excellent')['Start airing']>2000"
   ]
  },
  {
   "cell_type": "code",
   "execution_count": 131,
   "metadata": {},
   "outputs": [
    {
     "data": {
      "text/plain": [
       "1970"
      ]
     },
     "execution_count": 131,
     "metadata": {},
     "output_type": "execute_result"
    }
   ],
   "source": [
    "df[\"Start airing\"].min()"
   ]
  },
  {
   "cell_type": "code",
   "execution_count": 133,
   "metadata": {},
   "outputs": [
    {
     "data": {
      "text/plain": [
       "Récent    1280\n",
       "Ancien     225\n",
       "Name: Age, dtype: int64"
      ]
     },
     "execution_count": 133,
     "metadata": {},
     "output_type": "execute_result"
    }
   ],
   "source": [
    "group_names = [\"Ancien\",\"Récent\"]\n",
    "bins=[1970,2000,2020]\n",
    "df['Start airing'].value_counts(bins)\n",
    "df['Age'] = pd.cut(df['Start airing'], bins, labels=group_names, include_lowest=True )\n",
    "df[\"Age\"].value_counts()\n",
    "#Les animés sortis avant l'an 2000 ne représente que 15% de la base\n",
    "#et ils représentent environ 10% des notés \"excellent\"\n",
    "#Ceux sont donc ceux qui étaient marquants avant l'essor d'internet\n",
    "#De plus la proportion d'anciens parmi les excellents est supérieure à celle des plus récent : 4,4% pour les \"anciens\" contre 3,1% pour les \"nouveaux\""
   ]
  },
  {
   "cell_type": "code",
   "execution_count": 136,
   "metadata": {},
   "outputs": [
    {
     "data": {
      "text/html": [
       "<div>\n",
       "<style scoped>\n",
       "    .dataframe tbody tr th:only-of-type {\n",
       "        vertical-align: middle;\n",
       "    }\n",
       "\n",
       "    .dataframe tbody tr th {\n",
       "        vertical-align: top;\n",
       "    }\n",
       "\n",
       "    .dataframe thead tr th {\n",
       "        text-align: left;\n",
       "    }\n",
       "\n",
       "    .dataframe thead tr:last-of-type th {\n",
       "        text-align: right;\n",
       "    }\n",
       "</style>\n",
       "<table border=\"1\" class=\"dataframe\">\n",
       "  <thead>\n",
       "    <tr>\n",
       "      <th></th>\n",
       "      <th colspan=\"2\" halign=\"left\">Score</th>\n",
       "    </tr>\n",
       "    <tr>\n",
       "      <th>Age</th>\n",
       "      <th>Ancien</th>\n",
       "      <th>Récent</th>\n",
       "    </tr>\n",
       "    <tr>\n",
       "      <th>Type</th>\n",
       "      <th></th>\n",
       "      <th></th>\n",
       "    </tr>\n",
       "  </thead>\n",
       "  <tbody>\n",
       "    <tr>\n",
       "      <th>Movie</th>\n",
       "      <td>7.867018</td>\n",
       "      <td>7.915589</td>\n",
       "    </tr>\n",
       "    <tr>\n",
       "      <th>Music</th>\n",
       "      <td>7.560000</td>\n",
       "      <td>7.818750</td>\n",
       "    </tr>\n",
       "    <tr>\n",
       "      <th>ONA</th>\n",
       "      <td>0.000000</td>\n",
       "      <td>7.711818</td>\n",
       "    </tr>\n",
       "    <tr>\n",
       "      <th>OVA</th>\n",
       "      <td>7.859600</td>\n",
       "      <td>7.865882</td>\n",
       "    </tr>\n",
       "    <tr>\n",
       "      <th>Special</th>\n",
       "      <td>7.638333</td>\n",
       "      <td>7.835775</td>\n",
       "    </tr>\n",
       "    <tr>\n",
       "      <th>TV</th>\n",
       "      <td>7.860515</td>\n",
       "      <td>7.968928</td>\n",
       "    </tr>\n",
       "  </tbody>\n",
       "</table>\n",
       "</div>"
      ],
      "text/plain": [
       "            Score          \n",
       "Age        Ancien    Récent\n",
       "Type                       \n",
       "Movie    7.867018  7.915589\n",
       "Music    7.560000  7.818750\n",
       "ONA      0.000000  7.711818\n",
       "OVA      7.859600  7.865882\n",
       "Special  7.638333  7.835775\n",
       "TV       7.860515  7.968928"
      ]
     },
     "execution_count": 136,
     "metadata": {},
     "output_type": "execute_result"
    }
   ],
   "source": [
    "df_gptest2 = df[['Type','Score','Age']]\n",
    "group_age = df_gptest2.groupby(['Type','Age'],as_index=False).mean()\n",
    "grouped_pivot2 = group_age.pivot(index='Type',columns='Age')\n",
    "grouped_pivot2 = grouped_pivot2.fillna(0)\n",
    "grouped_pivot2\n",
    "#Toutes les moyennes des anciens sont inférieures à celles des récents donc les autres anciennes oeuvres sont très mal classées "
   ]
  },
  {
   "cell_type": "code",
   "execution_count": 137,
   "metadata": {},
   "outputs": [
    {
     "name": "stdout",
     "output_type": "stream",
     "text": [
      "ANOVA results: F= 5.112490419887606 , P = 0.006126282488093168\n"
     ]
    }
   ],
   "source": [
    "# ANOVA\n",
    "f_val, p_val = stats.f_oneway(grouped_test2.get_group('Excellent')['Start airing'], grouped_test2.get_group('Bon')['Start airing'], grouped_test2.get_group('Mediocre')['Start airing'])  \n",
    " \n",
    "print( \"ANOVA results: F=\", f_val, \", P =\", p_val)\n",
    "#On trouve un F-test score assez élevé (signe de corrélation) et une petite P-value (signe de significativité)\n",
    "#on peut interpréter cela comme le signe d'une corrélation entre la date de diffusion et le niveau de l'animé "
   ]
  },
  {
   "cell_type": "code",
   "execution_count": 138,
   "metadata": {},
   "outputs": [
    {
     "name": "stdout",
     "output_type": "stream",
     "text": [
      "ANOVA results: F= 1.7618507129072472 , P = 0.18511661424585618\n"
     ]
    }
   ],
   "source": [
    "#Separément\n",
    "f_val, p_val = stats.f_oneway(grouped_test2.get_group('Excellent')['Start airing'], grouped_test2.get_group('Bon')['Start airing'])  \n",
    " \n",
    "print( \"ANOVA results: F=\", f_val, \", P =\", p_val )"
   ]
  },
  {
   "cell_type": "code",
   "execution_count": 139,
   "metadata": {},
   "outputs": [
    {
     "name": "stdout",
     "output_type": "stream",
     "text": [
      "ANOVA results: F= 6.054236726531413 , P = 0.013988607313342337\n"
     ]
    }
   ],
   "source": [
    "\n",
    "f_val, p_val = stats.f_oneway(grouped_test2.get_group('Bon')['Start airing'],grouped_test2.get_group('Mediocre')['Start airing'])  \n",
    " \n",
    "print( \"ANOVA results: F=\", f_val, \", P =\", p_val )"
   ]
  },
  {
   "cell_type": "code",
   "execution_count": 140,
   "metadata": {},
   "outputs": [
    {
     "name": "stdout",
     "output_type": "stream",
     "text": [
      "ANOVA results: F= 4.911177765628092 , P = 0.026881721407456826\n"
     ]
    }
   ],
   "source": [
    "\n",
    "f_val, p_val = stats.f_oneway(grouped_test2.get_group('Mediocre')['Start airing'],grouped_test2.get_group('Excellent')['Start airing'])  \n",
    " \n",
    "print( \"ANOVA results: F=\", f_val, \", P =\", p_val )"
   ]
  },
  {
   "cell_type": "code",
   "execution_count": 141,
   "metadata": {},
   "outputs": [],
   "source": [
    "#importation pour la régression lineaire\n",
    "from sklearn.linear_model import LinearRegression\n",
    "from sklearn.metrics import mean_squared_error\n",
    "lm = LinearRegression()"
   ]
  },
  {
   "cell_type": "code",
   "execution_count": 142,
   "metadata": {},
   "outputs": [
    {
     "name": "stdout",
     "output_type": "stream",
     "text": [
      "The R-square is:  0.16796941714252112\n"
     ]
    }
   ],
   "source": [
    "#Je commence par chercher un bon modèle pour prévoir le score \n",
    "\n",
    "X=df[[\"Favorites\"]]\n",
    "Y=df[\"Score\"]\n",
    "lm.fit(X, Y)\n",
    "\n",
    "print('The R-square is: ', lm.score(X, Y))\n",
    "#Aucune variable quantitative n'a donné un résultat concluant\n"
   ]
  },
  {
   "cell_type": "code",
   "execution_count": 143,
   "metadata": {},
   "outputs": [
    {
     "name": "stdout",
     "output_type": "stream",
     "text": [
      "The R-square is:  0.9719224715872175\n"
     ]
    }
   ],
   "source": [
    "#Je prends donc les varibles avec le R² le plus élévé\n",
    "\n",
    "X=df[[\"Members\"]]\n",
    "Y=df[\"Scored by\"]\n",
    "lm.fit(X, Y)\n",
    "\n",
    "print('The R-square is: ', lm.score(X, Y))\n",
    "#L'équation de la droite de regression est capable d'expliquer 97% de la distribution des valeurs de Scored by"
   ]
  },
  {
   "cell_type": "code",
   "execution_count": 144,
   "metadata": {},
   "outputs": [
    {
     "data": {
      "text/plain": [
       "array([686905.15098079, 408632.61010066, 106946.3673321 , 102205.15914039,\n",
       "       577086.65047754])"
      ]
     },
     "execution_count": 144,
     "metadata": {},
     "output_type": "execute_result"
    }
   ],
   "source": [
    "X = df[['Members']]\n",
    "Y = df['Scored by']\n",
    "lm.fit(X,Y)\n",
    "\n",
    "#extrait des réponses calculées (5 premières)\n",
    "Yhat=lm.predict(X)\n",
    "Yhat[0:5]"
   ]
  },
  {
   "cell_type": "code",
   "execution_count": 145,
   "metadata": {},
   "outputs": [
    {
     "data": {
      "text/plain": [
       "-6559.69616041585"
      ]
     },
     "execution_count": 145,
     "metadata": {},
     "output_type": "execute_result"
    }
   ],
   "source": [
    "#Régression linéaire multiple\n",
    "#Pour préciser mon mdèle je rajoute la variable Favorites\n",
    "Z = df[['Members', 'Favorites']]\n",
    "lm.fit(Z, df['Scored by'])\n",
    "lm.intercept_"
   ]
  },
  {
   "cell_type": "code",
   "execution_count": 146,
   "metadata": {},
   "outputs": [
    {
     "data": {
      "text/plain": [
       "array([0.5666923 , 0.65632439])"
      ]
     },
     "execution_count": 146,
     "metadata": {},
     "output_type": "execute_result"
    }
   ],
   "source": [
    "lm.coef_"
   ]
  },
  {
   "cell_type": "code",
   "execution_count": 147,
   "metadata": {},
   "outputs": [
    {
     "data": {
      "text/plain": [
       "(0.0, 1046071.488091698)"
      ]
     },
     "execution_count": 147,
     "metadata": {},
     "output_type": "execute_result"
    },
    {
     "data": {
      "image/png": "[encoded data removed]",
      "text/plain": [
       "<Figure size 864x720 with 1 Axes>"
      ]
     },
     "metadata": {
      "needs_background": "light"
     },
     "output_type": "display_data"
    }
   ],
   "source": [
    "#Je vérifie que j'ai fais le bon choix en traçant la droite de régression\n",
    "width = 12\n",
    "height = 10\n",
    "plt.figure(figsize=(width, height))\n",
    "sns.regplot(x=\"Members\", y=\"Scored by\", data=df)\n",
    "plt.ylim(0,)"
   ]
  },
  {
   "cell_type": "code",
   "execution_count": 148,
   "metadata": {},
   "outputs": [
    {
     "data": {
      "text/plain": [
       "(0.0, 1043741.7901377511)"
      ]
     },
     "execution_count": 148,
     "metadata": {},
     "output_type": "execute_result"
    },
    {
     "data": {
      "image/png": "[encoded data removed]",
      "text/plain": [
       "<Figure size 864x720 with 1 Axes>"
      ]
     },
     "metadata": {
      "needs_background": "light"
     },
     "output_type": "display_data"
    }
   ],
   "source": [
    "#Je souhaite saoir si le score peut etre un meilleur indicateur\n",
    "plt.figure(figsize=(width, height))\n",
    "sns.regplot(x=\"Score\", y=\"Scored by\", data=df)\n",
    "plt.ylim(0,)"
   ]
  },
  {
   "cell_type": "code",
   "execution_count": 149,
   "metadata": {},
   "outputs": [
    {
     "data": {
      "image/png": "[encoded data removed]",
      "text/plain": [
       "<Figure size 864x720 with 1 Axes>"
      ]
     },
     "metadata": {
      "needs_background": "light"
     },
     "output_type": "display_data"
    }
   ],
   "source": [
    "#tracé résiduel\n",
    "width = 12\n",
    "height = 10\n",
    "plt.figure(figsize=(width, height))\n",
    "sns.residplot(df['Members'], df['Scored by'])\n",
    "plt.show()\n",
    "#malgré une concentration vers l'origine, le reste des valeurs est bien éparpillé\n",
    "#ce qui prouve que notre modèle est correct"
   ]
  },
  {
   "cell_type": "code",
   "execution_count": 150,
   "metadata": {},
   "outputs": [
    {
     "data": {
      "image/png": "[encoded data removed]",
      "text/plain": [
       "<Figure size 864x720 with 1 Axes>"
      ]
     },
     "metadata": {
      "needs_background": "light"
     },
     "output_type": "display_data"
    }
   ],
   "source": [
    "Y_hat = lm.predict(Z)\n",
    "plt.figure(figsize=(width, height))\n",
    "\n",
    "\n",
    "ax1 = sns.distplot(df['Scored by'], hist=False, color=\"r\", label=\"Valeurs réelles\")\n",
    "sns.distplot(Yhat, hist=False, color=\"b\", label=\"Valeurs estimées\" , ax=ax1)\n",
    "\n",
    "\n",
    "plt.title('Valeurs réelles vs estimées du nombre de votants')\n",
    "plt.xlabel('Scored by')\n",
    "plt.ylabel('Proportion of Anime')\n",
    "\n",
    "plt.show()\n",
    "plt.close()\n",
    "#les lignes bleues et rouges sont très proches le modèle est donc efficace"
   ]
  },
  {
   "cell_type": "code",
   "execution_count": 151,
   "metadata": {},
   "outputs": [],
   "source": [
    "#fonction pour visualiser\n",
    "def PlotPolly(model, independent_variable, dependent_variabble, Name):\n",
    "    x_new = np.linspace(15, 55, 100)\n",
    "    y_new = model(x_new)\n",
    "\n",
    "    plt.plot(independent_variable, dependent_variabble, '.', x_new, y_new, '-')\n",
    "    plt.title('Modèle polynomial avec Matplotlib pour estimer Scored by')\n",
    "    ax = plt.gca()\n",
    "    ax.set_facecolor((0.898, 0.898, 0.898))\n",
    "    fig = plt.gcf()\n",
    "    plt.xlabel(Name)\n",
    "    plt.ylabel('Scored by of Anime')\n",
    "\n",
    "    plt.show()\n",
    "    plt.close()"
   ]
  },
  {
   "cell_type": "code",
   "execution_count": 152,
   "metadata": {},
   "outputs": [],
   "source": [
    "x = df['Members']\n",
    "y = df['Scored by']"
   ]
  },
  {
   "cell_type": "code",
   "execution_count": 153,
   "metadata": {},
   "outputs": [
    {
     "name": "stdout",
     "output_type": "stream",
     "text": [
      "           3             2\n",
      "6.229e-15 x + 1.482e-07 x + 0.4771 x - 792.8\n"
     ]
    }
   ],
   "source": [
    "#équation du 3ème degré\n",
    "f = np.polyfit(x, y, 3)\n",
    "p = np.poly1d(f)\n",
    "print(p)"
   ]
  },
  {
   "cell_type": "code",
   "execution_count": 154,
   "metadata": {},
   "outputs": [
    {
     "data": {
      "image/png": "[encoded data removed]",
      "text/plain": [
       "<Figure size 432x288 with 1 Axes>"
      ]
     },
     "metadata": {
      "needs_background": "light"
     },
     "output_type": "display_data"
    }
   ],
   "source": [
    "PlotPolly(p, x, y, 'Members')\n",
    "#le graphique crée une diagonale quasi-parfaite"
   ]
  },
  {
   "cell_type": "code",
   "execution_count": 155,
   "metadata": {},
   "outputs": [
    {
     "data": {
      "text/plain": [
       "array([ 6.22919384e-15,  1.48207953e-07,  4.77120663e-01, -7.92777177e+02])"
      ]
     },
     "execution_count": 155,
     "metadata": {},
     "output_type": "execute_result"
    }
   ],
   "source": [
    "np.polyfit(x, y, 3)"
   ]
  },
  {
   "cell_type": "code",
   "execution_count": 156,
   "metadata": {},
   "outputs": [
    {
     "name": "stdout",
     "output_type": "stream",
     "text": [
      "           3             2\n",
      "6.229e-15 x + 1.482e-07 x + 0.4771 x - 792.8\n"
     ]
    },
    {
     "data": {
      "image/png": "[encoded data removed]",
      "text/plain": [
       "<Figure size 432x288 with 1 Axes>"
      ]
     },
     "metadata": {
      "needs_background": "light"
     },
     "output_type": "display_data"
    }
   ],
   "source": [
    "f1 = np.polyfit(x, y, 3)\n",
    "p1 = np.poly1d(f1)\n",
    "print(p)\n",
    "PlotPolly(p1,x,y, 'Favorites')\n",
    "#Pareil pour le nombre de favoris"
   ]
  },
  {
   "cell_type": "code",
   "execution_count": 157,
   "metadata": {},
   "outputs": [],
   "source": [
    "#Modèle polynomial\n",
    "\n",
    "from sklearn.preprocessing import PolynomialFeatures"
   ]
  },
  {
   "cell_type": "code",
   "execution_count": 158,
   "metadata": {},
   "outputs": [
    {
     "data": {
      "text/plain": [
       "(1505, 2)"
      ]
     },
     "execution_count": 158,
     "metadata": {},
     "output_type": "execute_result"
    }
   ],
   "source": [
    "pr=PolynomialFeatures(degree=2)\n",
    "pr\n",
    "Z_pr=pr.fit_transform(Z)\n",
    "Z.shape"
   ]
  },
  {
   "cell_type": "code",
   "execution_count": 159,
   "metadata": {},
   "outputs": [
    {
     "data": {
      "text/plain": [
       "(1505, 6)"
      ]
     },
     "execution_count": 159,
     "metadata": {},
     "output_type": "execute_result"
    }
   ],
   "source": [
    "Z_pr.shape"
   ]
  },
  {
   "cell_type": "code",
   "execution_count": 160,
   "metadata": {},
   "outputs": [
    {
     "name": "stderr",
     "output_type": "stream",
     "text": [
      "/home/jupyterlab/conda/envs/python/lib/python3.6/site-packages/sklearn/preprocessing/data.py:625: DataConversionWarning: Data with input dtype int64 were all converted to float64 by StandardScaler.\n",
      "  return self.partial_fit(X, y)\n",
      "/home/jupyterlab/conda/envs/python/lib/python3.6/site-packages/sklearn/base.py:465: DataConversionWarning: Data with input dtype int64 were all converted to float64 by StandardScaler.\n",
      "  return self.fit(X, y, **fit_params).transform(X)\n"
     ]
    },
    {
     "data": {
      "text/plain": [
       "Pipeline(memory=None,\n",
       "     steps=[('scale', StandardScaler(copy=True, with_mean=True, with_std=True)), ('polynomial', PolynomialFeatures(degree=2, include_bias=False, interaction_only=False)), ('model', LinearRegression(copy_X=True, fit_intercept=True, n_jobs=None,\n",
       "         normalize=False))])"
      ]
     },
     "execution_count": 160,
     "metadata": {},
     "output_type": "execute_result"
    }
   ],
   "source": [
    "from sklearn.pipeline import Pipeline\n",
    "from sklearn.preprocessing import StandardScaler\n",
    "Input=[('scale',StandardScaler()), ('polynomial', PolynomialFeatures(include_bias=False)), ('model',LinearRegression())]\n",
    "pipe=Pipeline(Input)\n",
    "pipe\n",
    "pipe.fit(Z,y)"
   ]
  },
  {
   "cell_type": "code",
   "execution_count": 161,
   "metadata": {},
   "outputs": [
    {
     "name": "stderr",
     "output_type": "stream",
     "text": [
      "/home/jupyterlab/conda/envs/python/lib/python3.6/site-packages/sklearn/pipeline.py:331: DataConversionWarning: Data with input dtype int64 were all converted to float64 by StandardScaler.\n",
      "  Xt = transform.transform(Xt)\n"
     ]
    },
    {
     "data": {
      "text/plain": [
       "array([737982.12100369, 400868.48823419,  94097.73687882,  94849.50695726])"
      ]
     },
     "execution_count": 161,
     "metadata": {},
     "output_type": "execute_result"
    }
   ],
   "source": [
    "ypipe=pipe.predict(Z)\n",
    "ypipe[0:4]"
   ]
  },
  {
   "cell_type": "code",
   "execution_count": 162,
   "metadata": {},
   "outputs": [
    {
     "data": {
      "image/png": "[encoded data removed]",
      "text/plain": [
       "<Figure size 864x720 with 1 Axes>"
      ]
     },
     "metadata": {
      "needs_background": "light"
     },
     "output_type": "display_data"
    }
   ],
   "source": [
    "plt.figure(figsize=(width, height))\n",
    "\n",
    "\n",
    "ax1 = sns.distplot(df['Scored by'], hist=False, color=\"r\", label=\"Valeurs réelles\")\n",
    "sns.distplot(ypipe, hist=False, color=\"b\", label=\"Valeurs estimées\" , ax=ax1)\n",
    "\n",
    "\n",
    "plt.title('Valeurs réelles vs estimées du nombre de votants')\n",
    "plt.xlabel('Scored by')\n",
    "plt.ylabel('Proportion of Anime')\n",
    "\n",
    "plt.show()\n",
    "plt.close()\n",
    "#Les droites rouge et bleue sont confondues le modèle polynomial est le plus adapté pour prédire le nombre de votants"
   ]
  },
  {
   "cell_type": "code",
   "execution_count": 163,
   "metadata": {},
   "outputs": [
    {
     "name": "stdout",
     "output_type": "stream",
     "text": [
      "Moyenne des moindres carrés de la régression linéaire:  287125173.00227433\n"
     ]
    }
   ],
   "source": [
    "mse = mean_squared_error(df['Scored by'], Yhat)\n",
    "print('Moyenne des moindres carrés de la régression linéaire: ', mse)"
   ]
  },
  {
   "cell_type": "code",
   "execution_count": 164,
   "metadata": {},
   "outputs": [
    {
     "name": "stdout",
     "output_type": "stream",
     "text": [
      "MMC régression linéaire multiple:  279273958.60053194\n"
     ]
    }
   ],
   "source": [
    "mse = mean_squared_error(df['Scored by'], Y_hat)\n",
    "print('MMC régression linéaire multiple: ', mse)"
   ]
  },
  {
   "cell_type": "code",
   "execution_count": 165,
   "metadata": {},
   "outputs": [
    {
     "name": "stdout",
     "output_type": "stream",
     "text": [
      "MMC du modèle polynomial:  177845337.9963825\n"
     ]
    }
   ],
   "source": [
    "mse = mean_squared_error(df['Scored by'], ypipe)\n",
    "print('MMC du modèle polynomial: ', mse)"
   ]
  },
  {
   "cell_type": "code",
   "execution_count": 166,
   "metadata": {},
   "outputs": [],
   "source": [
    "#On remarque bien la différence entre les modèles, plus il y a de variables plus la moyenne des moindres carrés diminue\n",
    "#plus elle diminue, plus le modèle est adéquat\n",
    "#le modèle le plus précis est donc le polynomial\n",
    "#Mais pour faire encore plus précis on peut ajouter du machine learning"
   ]
  },
  {
   "cell_type": "code",
   "execution_count": 167,
   "metadata": {},
   "outputs": [
    {
     "data": {
      "text/html": [
       "<div>\n",
       "<style scoped>\n",
       "    .dataframe tbody tr th:only-of-type {\n",
       "        vertical-align: middle;\n",
       "    }\n",
       "\n",
       "    .dataframe tbody tr th {\n",
       "        vertical-align: top;\n",
       "    }\n",
       "\n",
       "    .dataframe thead th {\n",
       "        text-align: right;\n",
       "    }\n",
       "</style>\n",
       "<table border=\"1\" class=\"dataframe\">\n",
       "  <thead>\n",
       "    <tr style=\"text-align: right;\">\n",
       "      <th></th>\n",
       "      <th>Score</th>\n",
       "      <th>Scored by</th>\n",
       "      <th>Members</th>\n",
       "      <th>Favorites</th>\n",
       "    </tr>\n",
       "  </thead>\n",
       "  <tbody>\n",
       "    <tr>\n",
       "      <th>0</th>\n",
       "      <td>9.25</td>\n",
       "      <td>719706</td>\n",
       "      <td>1176368</td>\n",
       "      <td>105387</td>\n",
       "    </tr>\n",
       "    <tr>\n",
       "      <th>1</th>\n",
       "      <td>9.19</td>\n",
       "      <td>454969</td>\n",
       "      <td>705186</td>\n",
       "      <td>33936</td>\n",
       "    </tr>\n",
       "    <tr>\n",
       "      <th>2</th>\n",
       "      <td>9.16</td>\n",
       "      <td>70279</td>\n",
       "      <td>194359</td>\n",
       "      <td>5597</td>\n",
       "    </tr>\n",
       "    <tr>\n",
       "      <th>3</th>\n",
       "      <td>9.16</td>\n",
       "      <td>12609</td>\n",
       "      <td>186331</td>\n",
       "      <td>1117</td>\n",
       "    </tr>\n",
       "    <tr>\n",
       "      <th>4</th>\n",
       "      <td>9.14</td>\n",
       "      <td>552791</td>\n",
       "      <td>990419</td>\n",
       "      <td>90365</td>\n",
       "    </tr>\n",
       "  </tbody>\n",
       "</table>\n",
       "</div>"
      ],
      "text/plain": [
       "   Score  Scored by  Members  Favorites\n",
       "0   9.25     719706  1176368     105387\n",
       "1   9.19     454969   705186      33936\n",
       "2   9.16      70279   194359       5597\n",
       "3   9.16      12609   186331       1117\n",
       "4   9.14     552791   990419      90365"
      ]
     },
     "execution_count": 167,
     "metadata": {},
     "output_type": "execute_result"
    }
   ],
   "source": [
    "df = pd.read_csv(\"dataanime.csv\")\n",
    "df=df._get_numeric_data()\n",
    "df.head()"
   ]
  },
  {
   "cell_type": "code",
   "execution_count": 168,
   "metadata": {},
   "outputs": [],
   "source": [
    "%%capture\n",
    "! pip install ipywidgets\n",
    "from IPython.display import display\n",
    "from IPython.html import widgets \n",
    "from IPython.display import display\n",
    "from ipywidgets import interact, interactive, fixed, interact_manual"
   ]
  },
  {
   "cell_type": "code",
   "execution_count": 169,
   "metadata": {},
   "outputs": [],
   "source": [
    "def DistributionPlot(RedFunction, BlueFunction, RedName, BlueName, Title):\n",
    "    width = 12\n",
    "    height = 10\n",
    "    plt.figure(figsize=(width, height))\n",
    "\n",
    "    ax1 = sns.distplot(RedFunction, hist=False, color=\"r\", label=RedName)\n",
    "    ax2 = sns.distplot(BlueFunction, hist=False, color=\"b\", label=BlueName, ax=ax1)\n",
    "\n",
    "    plt.title(Title)\n",
    "    plt.xlabel('Scored by')\n",
    "    plt.ylabel(\"Proportion d'animé\")\n",
    "\n",
    "    plt.show()\n",
    "    plt.close()"
   ]
  },
  {
   "cell_type": "code",
   "execution_count": 170,
   "metadata": {},
   "outputs": [],
   "source": [
    "def PollyPlot(xtrain, xtest, y_train, y_test, lr,poly_transform):\n",
    "    width = 12\n",
    "    height = 10\n",
    "    plt.figure(figsize=(width, height))\n",
    "    \n",
    "    \n",
    "    #training data \n",
    "    #testing data \n",
    "    # lr:  linear regression object \n",
    "    #poly_transform:  polynomial transformation object \n",
    " \n",
    "    xmax=max([xtrain.values.max(), xtest.values.max()])\n",
    "\n",
    "    xmin=min([xtrain.values.min(), xtest.values.min()])\n",
    "\n",
    "    x=np.arange(xmin, xmax, 0.1)\n",
    "\n",
    "\n",
    "    plt.plot(xtrain, y_train, 'ro', label=\"Données d'entrainement\")\n",
    "    plt.plot(xtest, y_test, 'go', label='Données de test')\n",
    "    plt.plot(x, lr.predict(poly_transform.fit_transform(x.reshape(-1, 1))), label='fonction de prédiction')\n",
    "    plt.ylim([-10000, 60000])\n",
    "    plt.ylabel('Scored by')\n",
    "    plt.legend()"
   ]
  },
  {
   "cell_type": "code",
   "execution_count": 171,
   "metadata": {},
   "outputs": [],
   "source": [
    "#On retire la variable à prédire\n",
    "y_data = df['Scored by']\n",
    "x_data=df.drop('Scored by',axis=1)"
   ]
  },
  {
   "cell_type": "code",
   "execution_count": 172,
   "metadata": {},
   "outputs": [
    {
     "name": "stdout",
     "output_type": "stream",
     "text": [
      "nombre de valeurs testées: 235\n",
      "nombre de valeurs d'entrainements: 1328\n"
     ]
    }
   ],
   "source": [
    "from sklearn.model_selection import train_test_split\n",
    "\n",
    "\n",
    "x_train, x_test, y_train, y_test = train_test_split(x_data, y_data, test_size=0.15, random_state=1)\n",
    "\n",
    "\n",
    "print(\"nombre de valeurs testées:\", x_test.shape[0])\n",
    "print(\"nombre de valeurs d'entrainements:\",x_train.shape[0])"
   ]
  },
  {
   "cell_type": "code",
   "execution_count": 173,
   "metadata": {},
   "outputs": [
    {
     "data": {
      "text/plain": [
       "LinearRegression(copy_X=True, fit_intercept=True, n_jobs=None,\n",
       "         normalize=False)"
      ]
     },
     "execution_count": 173,
     "metadata": {},
     "output_type": "execute_result"
    }
   ],
   "source": [
    "from sklearn.linear_model import LinearRegression\n",
    "lre=LinearRegression()\n",
    "lre.fit(x_train[['Members']], y_train)"
   ]
  },
  {
   "cell_type": "code",
   "execution_count": 174,
   "metadata": {},
   "outputs": [
    {
     "data": {
      "text/plain": [
       "0.9451766068640731"
      ]
     },
     "execution_count": 174,
     "metadata": {},
     "output_type": "execute_result"
    }
   ],
   "source": [
    "#les valeurs de test sont moins nombreuses donc le coefficient R² est plus petit\n",
    "lre.score(x_test[['Members']], y_test)"
   ]
  },
  {
   "cell_type": "code",
   "execution_count": 175,
   "metadata": {},
   "outputs": [
    {
     "data": {
      "text/plain": [
       "0.9748231864312831"
      ]
     },
     "execution_count": 175,
     "metadata": {},
     "output_type": "execute_result"
    }
   ],
   "source": [
    "lre.score(x_train[['Members']], y_train)"
   ]
  },
  {
   "cell_type": "code",
   "execution_count": 176,
   "metadata": {},
   "outputs": [
    {
     "name": "stdout",
     "output_type": "stream",
     "text": [
      "La moyenne des groupes est de  0.9672545159563538 et l'écart-type est 0.0032570945104820766\n"
     ]
    }
   ],
   "source": [
    "from sklearn.model_selection import cross_val_score\n",
    "Rcross = cross_val_score(lre, x_data[['Members']], y_data, cv=4)\n",
    "print(\"La moyenne des groupes est de \", Rcross.mean(), \"et l'écart-type est\" , Rcross.std())"
   ]
  },
  {
   "cell_type": "code",
   "execution_count": 177,
   "metadata": {},
   "outputs": [
    {
     "data": {
      "text/plain": [
       "array([7.44600710e+08, 2.08928129e+08, 1.60264052e+08, 7.04850817e+07])"
      ]
     },
     "execution_count": 177,
     "metadata": {},
     "output_type": "execute_result"
    }
   ],
   "source": [
    "-1 * cross_val_score(lre,x_data[['Members']], y_data,cv=4,scoring='neg_mean_squared_error')"
   ]
  },
  {
   "cell_type": "code",
   "execution_count": 178,
   "metadata": {},
   "outputs": [],
   "source": [
    "from sklearn.model_selection import cross_val_predict"
   ]
  },
  {
   "cell_type": "code",
   "execution_count": 179,
   "metadata": {},
   "outputs": [
    {
     "data": {
      "text/plain": [
       "array([666568.90236037, 397523.73705821, 105841.25628473, 101257.26413935,\n",
       "       560391.92734271])"
      ]
     },
     "execution_count": 179,
     "metadata": {},
     "output_type": "execute_result"
    }
   ],
   "source": [
    "yhat = cross_val_predict(lre,x_data[['Members']], y_data,cv=4)\n",
    "yhat[0:5]"
   ]
  },
  {
   "cell_type": "code",
   "execution_count": 180,
   "metadata": {},
   "outputs": [
    {
     "data": {
      "text/plain": [
       "LinearRegression(copy_X=True, fit_intercept=True, n_jobs=None,\n",
       "         normalize=False)"
      ]
     },
     "execution_count": 180,
     "metadata": {},
     "output_type": "execute_result"
    }
   ],
   "source": [
    "lr = LinearRegression()\n",
    "lr.fit(x_train[['Members', 'Favorites', 'Score']], y_train)"
   ]
  },
  {
   "cell_type": "code",
   "execution_count": 181,
   "metadata": {},
   "outputs": [
    {
     "data": {
      "text/plain": [
       "array([ -2060.69208321, 277374.22646567,  13869.38860694,   7141.47226268,\n",
       "        -3016.40885947])"
      ]
     },
     "execution_count": 181,
     "metadata": {},
     "output_type": "execute_result"
    }
   ],
   "source": [
    "yhat_train = lr.predict(x_train[['Members', 'Favorites', 'Score']])\n",
    "yhat_train[0:5]"
   ]
  },
  {
   "cell_type": "code",
   "execution_count": 182,
   "metadata": {},
   "outputs": [
    {
     "data": {
      "text/plain": [
       "array([31410.49572624, 85130.02453913,  5094.56182895, 10000.66072555,\n",
       "        7777.70814185])"
      ]
     },
     "execution_count": 182,
     "metadata": {},
     "output_type": "execute_result"
    }
   ],
   "source": [
    "yhat_test = lr.predict(x_test[['Members', 'Favorites', 'Score']])\n",
    "yhat_test[0:5]"
   ]
  },
  {
   "cell_type": "code",
   "execution_count": 183,
   "metadata": {},
   "outputs": [],
   "source": [
    "import matplotlib.pyplot as plt\n",
    "%matplotlib inline\n",
    "import seaborn as sns"
   ]
  },
  {
   "cell_type": "code",
   "execution_count": 184,
   "metadata": {},
   "outputs": [
    {
     "data": {
      "image/png": "[encoded data removed]",
      "text/plain": [
       "<Figure size 864x720 with 1 Axes>"
      ]
     },
     "metadata": {
      "needs_background": "light"
     },
     "output_type": "display_data"
    }
   ],
   "source": [
    "Title = \"Graphique des valeurs prédites grâce aux données d'entrainement vs les données d'entrainement\"\n",
    "DistributionPlot(y_train, yhat_train, \"Valeurs actuelles\", \"Valeurs prédites\", Title)\n",
    "#2 courbes quasi-confndues donc modèle significatif"
   ]
  },
  {
   "cell_type": "code",
   "execution_count": 185,
   "metadata": {},
   "outputs": [
    {
     "data": {
      "image/png": "[encoded data removed]",
      "text/plain": [
       "<Figure size 864x720 with 1 Axes>"
      ]
     },
     "metadata": {
      "needs_background": "light"
     },
     "output_type": "display_data"
    }
   ],
   "source": [
    "Title='Graphique des predictions faites sur les valeurs-test vs vraies valeurs-test'\n",
    "DistributionPlot(y_test,yhat_test,\"Valeurs actuelles\",\"Valeurs prédites\",Title)\n",
    "#On observe quelques décalages entres les courbes car le modèle analyse de nouvelles données donc est un peu moins précis"
   ]
  },
  {
   "cell_type": "code",
   "execution_count": 186,
   "metadata": {},
   "outputs": [],
   "source": [
    "from sklearn.preprocessing import PolynomialFeatures"
   ]
  },
  {
   "cell_type": "code",
   "execution_count": 187,
   "metadata": {},
   "outputs": [],
   "source": [
    "#overfitting 55%\n",
    "x_train, x_test, y_train, y_test = train_test_split(x_data, y_data, test_size=0.45, random_state=0)"
   ]
  },
  {
   "cell_type": "code",
   "execution_count": 188,
   "metadata": {},
   "outputs": [
    {
     "data": {
      "text/plain": [
       "PolynomialFeatures(degree=7, include_bias=True, interaction_only=False)"
      ]
     },
     "execution_count": 188,
     "metadata": {},
     "output_type": "execute_result"
    }
   ],
   "source": [
    "pr = PolynomialFeatures(degree=7)\n",
    "x_train_pr = pr.fit_transform(x_train[['Members']])\n",
    "x_test_pr = pr.fit_transform(x_test[['Members']])\n",
    "pr"
   ]
  },
  {
   "cell_type": "code",
   "execution_count": 189,
   "metadata": {},
   "outputs": [
    {
     "data": {
      "text/plain": [
       "LinearRegression(copy_X=True, fit_intercept=True, n_jobs=None,\n",
       "         normalize=False)"
      ]
     },
     "execution_count": 189,
     "metadata": {},
     "output_type": "execute_result"
    }
   ],
   "source": [
    "poly = LinearRegression()\n",
    "poly.fit(x_train_pr, y_train)"
   ]
  },
  {
   "cell_type": "code",
   "execution_count": 190,
   "metadata": {},
   "outputs": [
    {
     "data": {
      "text/plain": [
       "array([37512.7973787 , 37511.06521678, 37708.88797936, 37819.30934931,\n",
       "       37511.12382832])"
      ]
     },
     "execution_count": 190,
     "metadata": {},
     "output_type": "execute_result"
    }
   ],
   "source": [
    "yhat = poly.predict(x_test_pr)\n",
    "yhat[0:5]"
   ]
  },
  {
   "cell_type": "code",
   "execution_count": 191,
   "metadata": {},
   "outputs": [
    {
     "name": "stdout",
     "output_type": "stream",
     "text": [
      "Predicted values: [37512.7973787  37511.06521678 37708.88797936 37819.30934931]\n",
      "True values: [25348  1956 61237 46886]\n"
     ]
    }
   ],
   "source": [
    "print(\"Predicted values:\", yhat[0:4])\n",
    "print(\"True values:\", y_test[0:4].values)"
   ]
  },
  {
   "cell_type": "code",
   "execution_count": 192,
   "metadata": {},
   "outputs": [
    {
     "data": {
      "image/png": "[encoded data removed]",
      "text/plain": [
       "<Figure size 864x720 with 1 Axes>"
      ]
     },
     "metadata": {
      "needs_background": "light"
     },
     "output_type": "display_data"
    }
   ],
   "source": [
    "PollyPlot(x_train[['Members']], x_test[['Members']], y_train, y_test, poly,pr)\n",
    "#la courbe ne suit pas très bien les données"
   ]
  },
  {
   "cell_type": "code",
   "execution_count": 193,
   "metadata": {},
   "outputs": [
    {
     "data": {
      "text/plain": [
       "0.7825467693702992"
      ]
     },
     "execution_count": 193,
     "metadata": {},
     "output_type": "execute_result"
    }
   ],
   "source": [
    "poly.score(x_train_pr, y_train)"
   ]
  },
  {
   "cell_type": "code",
   "execution_count": 194,
   "metadata": {},
   "outputs": [
    {
     "data": {
      "text/plain": [
       "-11.418775830681593"
      ]
     },
     "execution_count": 194,
     "metadata": {},
     "output_type": "execute_result"
    }
   ],
   "source": [
    "poly.score(x_test_pr, y_test)\n",
    "#Coefficient négatif synonyme de mauvais modèle et d'overfitting, pour pallier ce probème on implémente une méthode de cross validation"
   ]
  },
  {
   "cell_type": "code",
   "execution_count": 195,
   "metadata": {},
   "outputs": [
    {
     "data": {
      "text/plain": [
       "Text(2, 0.98, 'R^2 Maximum')"
      ]
     },
     "execution_count": 195,
     "metadata": {},
     "output_type": "execute_result"
    },
    {
     "data": {
      "image/png": "[encoded data removed]",
      "text/plain": [
       "<Figure size 432x288 with 1 Axes>"
      ]
     },
     "metadata": {
      "needs_background": "light"
     },
     "output_type": "display_data"
    }
   ],
   "source": [
    "Rsqu_test = []\n",
    "\n",
    "order = [1, 2, 3, 4]\n",
    "for n in order:\n",
    "    pr = PolynomialFeatures(degree=n)\n",
    "    \n",
    "    x_train_pr = pr.fit_transform(x_train[['Members']])\n",
    "    \n",
    "    x_test_pr = pr.fit_transform(x_test[['Members']])    \n",
    "    \n",
    "    lr.fit(x_train_pr, y_train)\n",
    "    \n",
    "    Rsqu_test.append(lr.score(x_test_pr, y_test))\n",
    "\n",
    "plt.plot(order, Rsqu_test)\n",
    "plt.xlabel('ordre')\n",
    "plt.ylabel('R^2')\n",
    "plt.title('R^2 grâce aux données-test')\n",
    "plt.text(2, 0.98, 'R^2 Maximum')    \n",
    "#Le R² augment jusqu'au 2eme ordre puis stagne jusqu'au 3ème ou il continue en chutant"
   ]
  },
  {
   "cell_type": "code",
   "execution_count": 196,
   "metadata": {},
   "outputs": [],
   "source": [
    "def f(order, test_data):\n",
    "    x_train, x_test, y_train, y_test = train_test_split(x_data, y_data, test_size=test_data, random_state=0)\n",
    "    pr = PolynomialFeatures(degree=order)\n",
    "    x_train_pr = pr.fit_transform(x_train[['Members']])\n",
    "    x_test_pr = pr.fit_transform(x_test[['Members']])\n",
    "    poly = LinearRegression()\n",
    "    poly.fit(x_train_pr,y_train)\n",
    "    PollyPlot(x_train[['Members']], x_test[['Members']], y_train,y_test, poly, pr)"
   ]
  },
  {
   "cell_type": "code",
   "execution_count": 197,
   "metadata": {},
   "outputs": [
    {
     "data": {
      "application/vnd.jupyter.widget-view+json": {
       "model_id": "e18a1119f6f44cb090ac5f2344601fd1",
       "version_major": 2,
       "version_minor": 0
      },
      "text/plain": [
       "interactive(children=(IntSlider(value=3, description='order', max=6), FloatSlider(value=0.45, description='tes…"
      ]
     },
     "metadata": {},
     "output_type": "display_data"
    },
    {
     "data": {
      "text/plain": [
       "<function __main__.f(order, test_data)>"
      ]
     },
     "execution_count": 197,
     "metadata": {},
     "output_type": "execute_result"
    }
   ],
   "source": [
    "#permet les différentes courbes en fonction des paramètres et trouver le meilleurmodèle de prédiction (ordre 2)\n",
    "interact(f, order=(0, 6, 1), test_data=(0.05, 0.95, 0.05))"
   ]
  }
 ],
 "metadata": {
  "kernelspec": {
   "display_name": "Python 3",
   "language": "python",
   "name": "python3"
  },
  "language_info": {
   "codemirror_mode": {
    "name": "ipython",
    "version": 3
   },
   "file_extension": ".py",
   "mimetype": "text/x-python",
   "name": "python",
   "nbconvert_exporter": "python",
   "pygments_lexer": "ipython3",
   "version": "3.7.1"
  }
 },
 "nbformat": 4,
 "nbformat_minor": 4
}
